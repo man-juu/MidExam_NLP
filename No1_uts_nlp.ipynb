{
  "nbformat": 4,
  "nbformat_minor": 0,
  "metadata": {
    "colab": {
      "provenance": []
    },
    "kernelspec": {
      "name": "python3",
      "display_name": "Python 3"
    },
    "language_info": {
      "name": "python"
    }
  },
  "cells": [
    {
      "cell_type": "markdown",
      "source": [
        "2440050874 - Michael Julian"
      ],
      "metadata": {
        "id": "3TZOjhcf2b88"
      }
    },
    {
      "cell_type": "code",
      "source": [
        "import re"
      ],
      "metadata": {
        "id": "nQzrLP2_2bve"
      },
      "execution_count": null,
      "outputs": []
    },
    {
      "cell_type": "code",
      "source": [
        "phone_number = '''\n",
        "+62215262578\n",
        "+60358577\n",
        "+60388888000\n",
        "+8123570821\n",
        "+82314159265\n",
        "+62123456789\n",
        "'''"
      ],
      "metadata": {
        "id": "E9jXS_kJ4uHA"
      },
      "execution_count": null,
      "outputs": []
    },
    {
      "cell_type": "code",
      "source": [
        "email = '''\n",
        "jolly.wanda@bee.ac.id\n",
        "jojo@bee.ac.uk\n",
        "jolly.wanda@bee.edu\n",
        "jojo@bee.edu.au\n",
        "bibi@gmail.com\n",
        "lili@yahoo.com\n",
        "jolibi@binus.ac.id\n",
        "'''"
      ],
      "metadata": {
        "id": "34zJmiBU48an"
      },
      "execution_count": null,
      "outputs": []
    },
    {
      "cell_type": "code",
      "execution_count": null,
      "metadata": {
        "id": "aQCsW8ykzp38"
      },
      "outputs": [],
      "source": [
        "ism_phoneNumber = re.compile(r'\\+6[025]\\d+')\n",
        "match_pnum = ism_phoneNumber.finditer(phone_number)"
      ]
    },
    {
      "cell_type": "code",
      "source": [
        "academia_email = re.compile(r'[a-zA-Z0-9._]+@\\w+\\.((\\bac.id\\b)|(\\bac.uk\\b)|(\\bedu\\b)|(\\bedu.au\\b))')\n",
        "match_email = academia_email.finditer(email)"
      ],
      "metadata": {
        "id": "ozTsgx5-63u9"
      },
      "execution_count": null,
      "outputs": []
    },
    {
      "cell_type": "code",
      "source": [
        "for pn in match_pnum:\n",
        "  print(pn)"
      ],
      "metadata": {
        "colab": {
          "base_uri": "https://localhost:8080/"
        },
        "id": "hnYB9UEn2-b5",
        "outputId": "ab6a168f-4c07-4beb-9df2-d2e2f8f880e6"
      },
      "execution_count": null,
      "outputs": [
        {
          "output_type": "stream",
          "name": "stdout",
          "text": [
            "<re.Match object; span=(1, 13), match='+62215262578'>\n",
            "<re.Match object; span=(14, 23), match='+60358577'>\n",
            "<re.Match object; span=(24, 36), match='+60388888000'>\n",
            "<re.Match object; span=(62, 74), match='+62123456789'>\n"
          ]
        }
      ]
    },
    {
      "cell_type": "code",
      "source": [
        "for e in match_email:\n",
        "  print(e)"
      ],
      "metadata": {
        "colab": {
          "base_uri": "https://localhost:8080/"
        },
        "id": "XENviR3V7oKw",
        "outputId": "c293838e-e305-4573-e8da-c40249b80e9b"
      },
      "execution_count": null,
      "outputs": [
        {
          "output_type": "stream",
          "name": "stdout",
          "text": [
            "<re.Match object; span=(1, 22), match='jolly.wanda@bee.ac.id'>\n",
            "<re.Match object; span=(23, 37), match='jojo@bee.ac.uk'>\n",
            "<re.Match object; span=(38, 57), match='jolly.wanda@bee.edu'>\n",
            "<re.Match object; span=(58, 70), match='jojo@bee.edu'>\n",
            "<re.Match object; span=(104, 122), match='jolibi@binus.ac.id'>\n"
          ]
        }
      ]
    },
    {
      "cell_type": "code",
      "source": [
        "#phone number\n",
        "bool(re.match(ism_phoneNumber, input()))"
      ],
      "metadata": {
        "id": "S5eKBpKD9nI7"
      },
      "execution_count": null,
      "outputs": []
    },
    {
      "cell_type": "code",
      "source": [
        "#email\n",
        "bool(re.match(academia_email, input()))"
      ],
      "metadata": {
        "id": "cSb1wcv-9w5W"
      },
      "execution_count": null,
      "outputs": []
    }
  ]
}