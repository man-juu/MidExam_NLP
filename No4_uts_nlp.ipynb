{
  "nbformat": 4,
  "nbformat_minor": 0,
  "metadata": {
    "colab": {
      "provenance": []
    },
    "kernelspec": {
      "name": "python3",
      "display_name": "Python 3"
    },
    "language_info": {
      "name": "python"
    },
    "widgets": {
      "application/vnd.jupyter.widget-state+json": {
        "f4482f357ddc4985bdbc950fca4133b9": {
          "model_module": "@jupyter-widgets/controls",
          "model_name": "HBoxModel",
          "model_module_version": "1.5.0",
          "state": {
            "_dom_classes": [],
            "_model_module": "@jupyter-widgets/controls",
            "_model_module_version": "1.5.0",
            "_model_name": "HBoxModel",
            "_view_count": null,
            "_view_module": "@jupyter-widgets/controls",
            "_view_module_version": "1.5.0",
            "_view_name": "HBoxView",
            "box_style": "",
            "children": [
              "IPY_MODEL_f052d8075b284748845b75aed85170fe",
              "IPY_MODEL_c64d7a60e9bc443fbde2115273b352e0",
              "IPY_MODEL_518aeaf4419842af9dec458e56a05fdd"
            ],
            "layout": "IPY_MODEL_c93bd2c92a4a421787e24a1ba03348e1"
          }
        },
        "f052d8075b284748845b75aed85170fe": {
          "model_module": "@jupyter-widgets/controls",
          "model_name": "HTMLModel",
          "model_module_version": "1.5.0",
          "state": {
            "_dom_classes": [],
            "_model_module": "@jupyter-widgets/controls",
            "_model_module_version": "1.5.0",
            "_model_name": "HTMLModel",
            "_view_count": null,
            "_view_module": "@jupyter-widgets/controls",
            "_view_module_version": "1.5.0",
            "_view_name": "HTMLView",
            "description": "",
            "description_tooltip": null,
            "layout": "IPY_MODEL_8a5b0d560eff40f2b033de980f4d651f",
            "placeholder": "​",
            "style": "IPY_MODEL_e50c6aacb1d944d989ae18bd0f9bd43a",
            "value": "100%"
          }
        },
        "c64d7a60e9bc443fbde2115273b352e0": {
          "model_module": "@jupyter-widgets/controls",
          "model_name": "FloatProgressModel",
          "model_module_version": "1.5.0",
          "state": {
            "_dom_classes": [],
            "_model_module": "@jupyter-widgets/controls",
            "_model_module_version": "1.5.0",
            "_model_name": "FloatProgressModel",
            "_view_count": null,
            "_view_module": "@jupyter-widgets/controls",
            "_view_module_version": "1.5.0",
            "_view_name": "ProgressView",
            "bar_style": "success",
            "description": "",
            "description_tooltip": null,
            "layout": "IPY_MODEL_2ccdbf8987ee4bf7b9f722161f84cd84",
            "max": 11,
            "min": 0,
            "orientation": "horizontal",
            "style": "IPY_MODEL_ff7e666eaba542c3a347f88a38ab7d05",
            "value": 11
          }
        },
        "518aeaf4419842af9dec458e56a05fdd": {
          "model_module": "@jupyter-widgets/controls",
          "model_name": "HTMLModel",
          "model_module_version": "1.5.0",
          "state": {
            "_dom_classes": [],
            "_model_module": "@jupyter-widgets/controls",
            "_model_module_version": "1.5.0",
            "_model_name": "HTMLModel",
            "_view_count": null,
            "_view_module": "@jupyter-widgets/controls",
            "_view_module_version": "1.5.0",
            "_view_name": "HTMLView",
            "description": "",
            "description_tooltip": null,
            "layout": "IPY_MODEL_fcaeea9c3b374b0da7ce58f687e862be",
            "placeholder": "​",
            "style": "IPY_MODEL_999138b133084ae9a17ee4e48c185e21",
            "value": " 11/11 [00:00&lt;00:00, 193.23it/s]"
          }
        },
        "c93bd2c92a4a421787e24a1ba03348e1": {
          "model_module": "@jupyter-widgets/base",
          "model_name": "LayoutModel",
          "model_module_version": "1.2.0",
          "state": {
            "_model_module": "@jupyter-widgets/base",
            "_model_module_version": "1.2.0",
            "_model_name": "LayoutModel",
            "_view_count": null,
            "_view_module": "@jupyter-widgets/base",
            "_view_module_version": "1.2.0",
            "_view_name": "LayoutView",
            "align_content": null,
            "align_items": null,
            "align_self": null,
            "border": null,
            "bottom": null,
            "display": null,
            "flex": null,
            "flex_flow": null,
            "grid_area": null,
            "grid_auto_columns": null,
            "grid_auto_flow": null,
            "grid_auto_rows": null,
            "grid_column": null,
            "grid_gap": null,
            "grid_row": null,
            "grid_template_areas": null,
            "grid_template_columns": null,
            "grid_template_rows": null,
            "height": null,
            "justify_content": null,
            "justify_items": null,
            "left": null,
            "margin": null,
            "max_height": null,
            "max_width": null,
            "min_height": null,
            "min_width": null,
            "object_fit": null,
            "object_position": null,
            "order": null,
            "overflow": null,
            "overflow_x": null,
            "overflow_y": null,
            "padding": null,
            "right": null,
            "top": null,
            "visibility": null,
            "width": null
          }
        },
        "8a5b0d560eff40f2b033de980f4d651f": {
          "model_module": "@jupyter-widgets/base",
          "model_name": "LayoutModel",
          "model_module_version": "1.2.0",
          "state": {
            "_model_module": "@jupyter-widgets/base",
            "_model_module_version": "1.2.0",
            "_model_name": "LayoutModel",
            "_view_count": null,
            "_view_module": "@jupyter-widgets/base",
            "_view_module_version": "1.2.0",
            "_view_name": "LayoutView",
            "align_content": null,
            "align_items": null,
            "align_self": null,
            "border": null,
            "bottom": null,
            "display": null,
            "flex": null,
            "flex_flow": null,
            "grid_area": null,
            "grid_auto_columns": null,
            "grid_auto_flow": null,
            "grid_auto_rows": null,
            "grid_column": null,
            "grid_gap": null,
            "grid_row": null,
            "grid_template_areas": null,
            "grid_template_columns": null,
            "grid_template_rows": null,
            "height": null,
            "justify_content": null,
            "justify_items": null,
            "left": null,
            "margin": null,
            "max_height": null,
            "max_width": null,
            "min_height": null,
            "min_width": null,
            "object_fit": null,
            "object_position": null,
            "order": null,
            "overflow": null,
            "overflow_x": null,
            "overflow_y": null,
            "padding": null,
            "right": null,
            "top": null,
            "visibility": null,
            "width": null
          }
        },
        "e50c6aacb1d944d989ae18bd0f9bd43a": {
          "model_module": "@jupyter-widgets/controls",
          "model_name": "DescriptionStyleModel",
          "model_module_version": "1.5.0",
          "state": {
            "_model_module": "@jupyter-widgets/controls",
            "_model_module_version": "1.5.0",
            "_model_name": "DescriptionStyleModel",
            "_view_count": null,
            "_view_module": "@jupyter-widgets/base",
            "_view_module_version": "1.2.0",
            "_view_name": "StyleView",
            "description_width": ""
          }
        },
        "2ccdbf8987ee4bf7b9f722161f84cd84": {
          "model_module": "@jupyter-widgets/base",
          "model_name": "LayoutModel",
          "model_module_version": "1.2.0",
          "state": {
            "_model_module": "@jupyter-widgets/base",
            "_model_module_version": "1.2.0",
            "_model_name": "LayoutModel",
            "_view_count": null,
            "_view_module": "@jupyter-widgets/base",
            "_view_module_version": "1.2.0",
            "_view_name": "LayoutView",
            "align_content": null,
            "align_items": null,
            "align_self": null,
            "border": null,
            "bottom": null,
            "display": null,
            "flex": null,
            "flex_flow": null,
            "grid_area": null,
            "grid_auto_columns": null,
            "grid_auto_flow": null,
            "grid_auto_rows": null,
            "grid_column": null,
            "grid_gap": null,
            "grid_row": null,
            "grid_template_areas": null,
            "grid_template_columns": null,
            "grid_template_rows": null,
            "height": null,
            "justify_content": null,
            "justify_items": null,
            "left": null,
            "margin": null,
            "max_height": null,
            "max_width": null,
            "min_height": null,
            "min_width": null,
            "object_fit": null,
            "object_position": null,
            "order": null,
            "overflow": null,
            "overflow_x": null,
            "overflow_y": null,
            "padding": null,
            "right": null,
            "top": null,
            "visibility": null,
            "width": null
          }
        },
        "ff7e666eaba542c3a347f88a38ab7d05": {
          "model_module": "@jupyter-widgets/controls",
          "model_name": "ProgressStyleModel",
          "model_module_version": "1.5.0",
          "state": {
            "_model_module": "@jupyter-widgets/controls",
            "_model_module_version": "1.5.0",
            "_model_name": "ProgressStyleModel",
            "_view_count": null,
            "_view_module": "@jupyter-widgets/base",
            "_view_module_version": "1.2.0",
            "_view_name": "StyleView",
            "bar_color": null,
            "description_width": ""
          }
        },
        "fcaeea9c3b374b0da7ce58f687e862be": {
          "model_module": "@jupyter-widgets/base",
          "model_name": "LayoutModel",
          "model_module_version": "1.2.0",
          "state": {
            "_model_module": "@jupyter-widgets/base",
            "_model_module_version": "1.2.0",
            "_model_name": "LayoutModel",
            "_view_count": null,
            "_view_module": "@jupyter-widgets/base",
            "_view_module_version": "1.2.0",
            "_view_name": "LayoutView",
            "align_content": null,
            "align_items": null,
            "align_self": null,
            "border": null,
            "bottom": null,
            "display": null,
            "flex": null,
            "flex_flow": null,
            "grid_area": null,
            "grid_auto_columns": null,
            "grid_auto_flow": null,
            "grid_auto_rows": null,
            "grid_column": null,
            "grid_gap": null,
            "grid_row": null,
            "grid_template_areas": null,
            "grid_template_columns": null,
            "grid_template_rows": null,
            "height": null,
            "justify_content": null,
            "justify_items": null,
            "left": null,
            "margin": null,
            "max_height": null,
            "max_width": null,
            "min_height": null,
            "min_width": null,
            "object_fit": null,
            "object_position": null,
            "order": null,
            "overflow": null,
            "overflow_x": null,
            "overflow_y": null,
            "padding": null,
            "right": null,
            "top": null,
            "visibility": null,
            "width": null
          }
        },
        "999138b133084ae9a17ee4e48c185e21": {
          "model_module": "@jupyter-widgets/controls",
          "model_name": "DescriptionStyleModel",
          "model_module_version": "1.5.0",
          "state": {
            "_model_module": "@jupyter-widgets/controls",
            "_model_module_version": "1.5.0",
            "_model_name": "DescriptionStyleModel",
            "_view_count": null,
            "_view_module": "@jupyter-widgets/base",
            "_view_module_version": "1.2.0",
            "_view_name": "StyleView",
            "description_width": ""
          }
        }
      }
    }
  },
  "cells": [
    {
      "cell_type": "markdown",
      "source": [
        "2440050874 - Michael Julian"
      ],
      "metadata": {
        "id": "0TdCNGPBK12s"
      }
    },
    {
      "cell_type": "code",
      "source": [
        "import os\n",
        "import numpy as np\n",
        "import pandas as pd\n",
        "import nltk\n",
        "nltk.download('punkt')\n",
        "import matplotlib.pyplot as plt\n",
        "plt.style.use('ggplot')\n",
        "\n",
        "from nltk.tokenize import word_tokenize\n",
        "from gensim.models import Word2Vec\n",
        "from tqdm.auto import tqdm\n",
        "from sklearn.decomposition import PCA"
      ],
      "metadata": {
        "colab": {
          "base_uri": "https://localhost:8080/"
        },
        "id": "hq_vWEUtstMY",
        "outputId": "a0a57c6b-7ef6-466f-ed6e-39092fa0cd0c"
      },
      "execution_count": null,
      "outputs": [
        {
          "output_type": "stream",
          "name": "stdout",
          "text": [
            "[nltk_data] Downloading package punkt to /root/nltk_data...\n",
            "[nltk_data]   Package punkt is already up-to-date!\n"
          ]
        }
      ]
    },
    {
      "cell_type": "code",
      "execution_count": null,
      "metadata": {
        "id": "DBd500R4Kzpq"
      },
      "outputs": [],
      "source": [
        "corpus = [\n",
        "'Saya suka dengan makanan laut',\n",
        "'Saya suka dengan minuman yang manis',\n",
        "'Kemarin saya makan makanan laut',\n",
        "'Hari ini saya makan makanan khas Sunda',\n",
        "'Besok saya berencana makan makanan khas Betawi',\n",
        "'Kemarin saya makan roti',\n",
        "'Hari ini saya makan Pizza',\n",
        "'Besok saya berencana makan Burger',\n",
        "'Hari ini saya minum Coca Cola',\n",
        "'Besok saya berencana minum kopi',\n",
        "'Lusa saya berencana minum teh manis'\n",
        "]"
      ]
    },
    {
      "cell_type": "markdown",
      "source": [
        ">Tokenize words on each sentences:"
      ],
      "metadata": {
        "id": "K4fCXO8z17Vd"
      }
    },
    {
      "cell_type": "code",
      "source": [
        "sentences = [word_tokenize(sents.lower()) for sents in tqdm(corpus)]\n",
        "sentences"
      ],
      "metadata": {
        "colab": {
          "base_uri": "https://localhost:8080/",
          "height": 240,
          "referenced_widgets": [
            "f4482f357ddc4985bdbc950fca4133b9",
            "f052d8075b284748845b75aed85170fe",
            "c64d7a60e9bc443fbde2115273b352e0",
            "518aeaf4419842af9dec458e56a05fdd",
            "c93bd2c92a4a421787e24a1ba03348e1",
            "8a5b0d560eff40f2b033de980f4d651f",
            "e50c6aacb1d944d989ae18bd0f9bd43a",
            "2ccdbf8987ee4bf7b9f722161f84cd84",
            "ff7e666eaba542c3a347f88a38ab7d05",
            "fcaeea9c3b374b0da7ce58f687e862be",
            "999138b133084ae9a17ee4e48c185e21"
          ]
        },
        "id": "9a2_mJnjtav3",
        "outputId": "772485b3-061a-43d2-9f95-6d15bec657e5"
      },
      "execution_count": null,
      "outputs": [
        {
          "output_type": "display_data",
          "data": {
            "text/plain": [
              "  0%|          | 0/11 [00:00<?, ?it/s]"
            ],
            "application/vnd.jupyter.widget-view+json": {
              "version_major": 2,
              "version_minor": 0,
              "model_id": "f4482f357ddc4985bdbc950fca4133b9"
            }
          },
          "metadata": {}
        },
        {
          "output_type": "execute_result",
          "data": {
            "text/plain": [
              "[['saya', 'suka', 'dengan', 'makanan', 'laut'],\n",
              " ['saya', 'suka', 'dengan', 'minuman', 'yang', 'manis'],\n",
              " ['kemarin', 'saya', 'makan', 'makanan', 'laut'],\n",
              " ['hari', 'ini', 'saya', 'makan', 'makanan', 'khas', 'sunda'],\n",
              " ['besok', 'saya', 'berencana', 'makan', 'makanan', 'khas', 'betawi'],\n",
              " ['kemarin', 'saya', 'makan', 'roti'],\n",
              " ['hari', 'ini', 'saya', 'makan', 'pizza'],\n",
              " ['besok', 'saya', 'berencana', 'makan', 'burger'],\n",
              " ['hari', 'ini', 'saya', 'minum', 'coca', 'cola'],\n",
              " ['besok', 'saya', 'berencana', 'minum', 'kopi'],\n",
              " ['lusa', 'saya', 'berencana', 'minum', 'teh', 'manis']]"
            ]
          },
          "metadata": {},
          "execution_count": 271
        }
      ]
    },
    {
      "cell_type": "markdown",
      "source": [
        "# Word2Vec Model"
      ],
      "metadata": {
        "id": "0SVQ8wlZux1C"
      }
    },
    {
      "cell_type": "code",
      "source": [
        "#Train Word2Vec Model using our corpus\n",
        "model = Word2Vec(sentences, size=100, window=4, min_count=1, iter=52, sg=1)\n",
        "w2v = model.wv"
      ],
      "metadata": {
        "id": "DzDq38stun0h"
      },
      "execution_count": null,
      "outputs": []
    },
    {
      "cell_type": "markdown",
      "source": [
        ">Our Vocabs and Vectors"
      ],
      "metadata": {
        "id": "-ZHk-veZx0pY"
      }
    },
    {
      "cell_type": "code",
      "source": [
        "w2v.index2word"
      ],
      "metadata": {
        "colab": {
          "base_uri": "https://localhost:8080/"
        },
        "id": "DqlBmwxRxkrh",
        "outputId": "e1e0cf34-45d2-4bad-f6d3-5f870270932f"
      },
      "execution_count": null,
      "outputs": [
        {
          "output_type": "execute_result",
          "data": {
            "text/plain": [
              "['saya',\n",
              " 'makan',\n",
              " 'makanan',\n",
              " 'berencana',\n",
              " 'hari',\n",
              " 'ini',\n",
              " 'besok',\n",
              " 'minum',\n",
              " 'suka',\n",
              " 'dengan',\n",
              " 'laut',\n",
              " 'manis',\n",
              " 'kemarin',\n",
              " 'khas',\n",
              " 'minuman',\n",
              " 'yang',\n",
              " 'sunda',\n",
              " 'betawi',\n",
              " 'roti',\n",
              " 'pizza',\n",
              " 'burger',\n",
              " 'coca',\n",
              " 'cola',\n",
              " 'kopi',\n",
              " 'lusa',\n",
              " 'teh']"
            ]
          },
          "metadata": {},
          "execution_count": 273
        }
      ]
    },
    {
      "cell_type": "code",
      "source": [
        "w2v.vectors"
      ],
      "metadata": {
        "colab": {
          "base_uri": "https://localhost:8080/"
        },
        "id": "rhAH8jNk1Kch",
        "outputId": "bb95fc26-b36a-4f4f-c6f0-6c88f631a6a5"
      },
      "execution_count": null,
      "outputs": [
        {
          "output_type": "execute_result",
          "data": {
            "text/plain": [
              "array([[ 3.0709649e-03,  3.0910778e-03,  4.4947793e-04, ...,\n",
              "        -2.2821822e-03, -1.9568389e-03,  2.6224304e-03],\n",
              "       [-5.2251231e-05,  3.2244283e-03, -4.8552114e-03, ...,\n",
              "        -2.3795913e-03, -4.6891547e-03,  5.4118893e-04],\n",
              "       [-3.1403957e-03, -1.7977889e-03, -3.6768320e-03, ...,\n",
              "         3.0203073e-03, -4.8084636e-04, -1.1413947e-03],\n",
              "       ...,\n",
              "       [-1.7964949e-03, -4.5783460e-04, -4.4864370e-03, ...,\n",
              "        -4.6985988e-03, -2.7421592e-03,  2.5052894e-03],\n",
              "       [-2.1041692e-03,  2.1050470e-03, -4.0407400e-03, ...,\n",
              "        -1.5831303e-03,  5.8788870e-04,  3.2014784e-03],\n",
              "       [-5.0043231e-03, -4.7354467e-04, -4.2814240e-03, ...,\n",
              "        -3.7170898e-03, -1.9310826e-03,  1.8638473e-03]], dtype=float32)"
            ]
          },
          "metadata": {},
          "execution_count": 274
        }
      ]
    },
    {
      "cell_type": "code",
      "source": [
        "w2v.vector_size"
      ],
      "metadata": {
        "colab": {
          "base_uri": "https://localhost:8080/"
        },
        "id": "RYYnNMEu1G12",
        "outputId": "839150d6-f498-4270-c75b-48c2be8041c7"
      },
      "execution_count": null,
      "outputs": [
        {
          "output_type": "execute_result",
          "data": {
            "text/plain": [
              "100"
            ]
          },
          "metadata": {},
          "execution_count": 275
        }
      ]
    },
    {
      "cell_type": "markdown",
      "source": [
        ">Similar Words: semantically related"
      ],
      "metadata": {
        "id": "QU4tgr1L6sNf"
      }
    },
    {
      "cell_type": "code",
      "source": [
        "w2v.similar_by_word(\"makan\")"
      ],
      "metadata": {
        "colab": {
          "base_uri": "https://localhost:8080/"
        },
        "id": "i8qtkXWg6qiY",
        "outputId": "127aebd5-ae0d-4df8-9067-15e9230e7d84"
      },
      "execution_count": null,
      "outputs": [
        {
          "output_type": "execute_result",
          "data": {
            "text/plain": [
              "[('teh', 0.20991700887680054),\n",
              " ('roti', 0.13119488954544067),\n",
              " ('makanan', 0.12915575504302979),\n",
              " ('betawi', 0.12285085022449493),\n",
              " ('lusa', 0.11536605656147003),\n",
              " ('saya', 0.1061602309346199),\n",
              " ('besok', 0.0992307960987091),\n",
              " ('minuman', 0.07618580758571625),\n",
              " ('yang', 0.07392755895853043),\n",
              " ('kopi', 0.06295904517173767)]"
            ]
          },
          "metadata": {},
          "execution_count": 276
        }
      ]
    },
    {
      "cell_type": "code",
      "source": [
        "w2v.similar_by_word(\"minum\")"
      ],
      "metadata": {
        "colab": {
          "base_uri": "https://localhost:8080/"
        },
        "id": "gHpnSQCG7Oi7",
        "outputId": "4cb022ba-61c6-47a8-89ba-6d7719f7abc2"
      },
      "execution_count": null,
      "outputs": [
        {
          "output_type": "execute_result",
          "data": {
            "text/plain": [
              "[('minuman', 0.20203514397144318),\n",
              " ('coca', 0.185489222407341),\n",
              " ('ini', 0.18118292093276978),\n",
              " ('pizza', 0.14124946296215057),\n",
              " ('hari', 0.10521639138460159),\n",
              " ('suka', 0.07191593945026398),\n",
              " ('besok', 0.06250594556331635),\n",
              " ('saya', 0.05013998597860336),\n",
              " ('dengan', 0.0395670160651207),\n",
              " ('lusa', 0.03751610964536667)]"
            ]
          },
          "metadata": {},
          "execution_count": 277
        }
      ]
    },
    {
      "cell_type": "markdown",
      "source": [
        "# Visualization"
      ],
      "metadata": {
        "id": "h001Lhug0dgp"
      }
    },
    {
      "cell_type": "code",
      "source": [
        "def display_pca_scatterplot(model, words=None, sample=0):\n",
        "    if words == None:\n",
        "        if sample > 0:\n",
        "            words = np.random.choice(list(model.vocab.keys()), sample)\n",
        "        else:\n",
        "            words = [ word for word in model.vocab ]\n",
        "        \n",
        "    word_vectors = np.array([model[w] for w in words])\n",
        "\n",
        "    twodim = PCA().fit_transform(word_vectors)[:,:2]\n",
        "    \n",
        "    plt.figure(figsize=(15,15))\n",
        "    plt.scatter(twodim[:,0], twodim[:,1], edgecolors='k', c='r')\n",
        "    for word, (x,y) in zip(words, twodim):\n",
        "        plt.text(x+.00008, y+.00008, word)"
      ],
      "metadata": {
        "id": "KYLTmksXyUcC"
      },
      "execution_count": null,
      "outputs": []
    },
    {
      "cell_type": "code",
      "source": [
        "display_pca_scatterplot(model, \n",
        "                        ['saya','makan','makanan','berencana','hari','ini','besok','minum','suka',\n",
        "                         'dengan','laut','manis','kemarin','khas','minuman','yang','sunda','betawi',\n",
        "                         'roti','pizza','burger','coca','cola','kopi','lusa','teh'])"
      ],
      "metadata": {
        "colab": {
          "base_uri": "https://localhost:8080/",
          "height": 873
        },
        "id": "inZ3lQo6zBEl",
        "outputId": "dfc2e9ac-60e6-4003-95f8-f4f532e1d520"
      },
      "execution_count": null,
      "outputs": [
        {
          "output_type": "stream",
          "name": "stderr",
          "text": [
            "/usr/local/lib/python3.7/dist-packages/ipykernel_launcher.py:8: DeprecationWarning:\n",
            "\n",
            "Call to deprecated `__getitem__` (Method will be removed in 4.0.0, use self.wv.__getitem__() instead).\n",
            "\n"
          ]
        },
        {
          "output_type": "display_data",
          "data": {
            "text/plain": [
              "<Figure size 1080x1080 with 1 Axes>"
            ],
            "image/png": "[encoded data removed]"
          },
          "metadata": {}
        }
      ]
    }
  ]
}