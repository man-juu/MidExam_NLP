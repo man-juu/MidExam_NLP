{
  "nbformat": 4,
  "nbformat_minor": 0,
  "metadata": {
    "colab": {
      "provenance": []
    },
    "kernelspec": {
      "name": "python3",
      "display_name": "Python 3"
    },
    "language_info": {
      "name": "python"
    }
  },
  "cells": [
    {
      "cell_type": "markdown",
      "source": [
        "2440050874 - Michael Julian"
      ],
      "metadata": {
        "id": "zx2Z2M-qb2WV"
      }
    },
    {
      "cell_type": "code",
      "source": [
        "!pip install nltk"
      ],
      "metadata": {
        "colab": {
          "base_uri": "https://localhost:8080/"
        },
        "id": "wALCJHkQ027W",
        "outputId": "8588c392-4f88-4050-e0ec-9d1b405c4197"
      },
      "execution_count": null,
      "outputs": [
        {
          "output_type": "stream",
          "name": "stdout",
          "text": [
            "Requirement already satisfied: nltk in /usr/local/lib/python3.7/dist-packages (3.2.5)\n",
            "Requirement already satisfied: six in /usr/local/lib/python3.7/dist-packages (from nltk) (1.15.0)\n"
          ]
        }
      ]
    },
    {
      "cell_type": "code",
      "source": [
        "import nltk\n",
        "nltk.download('averaged_perceptron_tagger')\n",
        "nltk.download('punkt')"
      ],
      "metadata": {
        "colab": {
          "base_uri": "https://localhost:8080/"
        },
        "id": "uFHILTDfeXsU",
        "outputId": "89cb9632-9c93-4dca-c883-b907e49aaffe"
      },
      "execution_count": null,
      "outputs": [
        {
          "output_type": "stream",
          "name": "stdout",
          "text": [
            "[nltk_data] Downloading package averaged_perceptron_tagger to\n",
            "[nltk_data]     /root/nltk_data...\n",
            "[nltk_data]   Package averaged_perceptron_tagger is already up-to-\n",
            "[nltk_data]       date!\n",
            "[nltk_data] Downloading package punkt to /root/nltk_data...\n",
            "[nltk_data]   Package punkt is already up-to-date!\n"
          ]
        },
        {
          "output_type": "execute_result",
          "data": {
            "text/plain": [
              "True"
            ]
          },
          "metadata": {},
          "execution_count": 40
        }
      ]
    },
    {
      "cell_type": "code",
      "source": [
        "sents = [\"Social Signal Processing can be considered as blue-sky research in the Artificial Intelligence area.\", \"Please book me a flight to Indonesia. I am planning to visit Jojo Academy this week.\",\"I think therefore I am the first principle of Rene Descartes’s philosophy.\"]"
      ],
      "metadata": {
        "id": "aJs03esFx_dM"
      },
      "execution_count": null,
      "outputs": []
    },
    {
      "cell_type": "code",
      "source": [
        "for sent in sents:\n",
        "  print(list(nltk.pos_tag(nltk.word_tokenize(sent))))\n",
        "  print()"
      ],
      "metadata": {
        "colab": {
          "base_uri": "https://localhost:8080/"
        },
        "id": "rsLSNNdM1q41",
        "outputId": "cd00d154-0f1a-4333-89b6-eb44c81d7bd7"
      },
      "execution_count": null,
      "outputs": [
        {
          "output_type": "stream",
          "name": "stdout",
          "text": [
            "[('Social', 'NNP'), ('Signal', 'NNP'), ('Processing', 'NNP'), ('can', 'MD'), ('be', 'VB'), ('considered', 'VBN'), ('as', 'IN'), ('blue-sky', 'JJ'), ('research', 'NN'), ('in', 'IN'), ('the', 'DT'), ('Artificial', 'NNP'), ('Intelligence', 'NNP'), ('area', 'NN'), ('.', '.')]\n",
            "\n",
            "[('Please', 'VB'), ('book', 'NN'), ('me', 'PRP'), ('a', 'DT'), ('flight', 'NN'), ('to', 'TO'), ('Indonesia', 'NNP'), ('.', '.'), ('I', 'PRP'), ('am', 'VBP'), ('planning', 'VBG'), ('to', 'TO'), ('visit', 'VB'), ('Jojo', 'NNP'), ('Academy', 'NNP'), ('this', 'DT'), ('week', 'NN'), ('.', '.')]\n",
            "\n",
            "[('I', 'PRP'), ('think', 'VBP'), ('therefore', 'RB'), ('I', 'PRP'), ('am', 'VBP'), ('the', 'DT'), ('first', 'JJ'), ('principle', 'NN'), ('of', 'IN'), ('Rene', 'NNP'), ('Descartes', 'NNP'), ('’', 'NNP'), ('s', 'VBD'), ('philosophy', 'NN'), ('.', '.')]\n",
            "\n"
          ]
        }
      ]
    }
  ]
}