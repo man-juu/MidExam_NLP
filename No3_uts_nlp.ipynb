{
  "nbformat": 4,
  "nbformat_minor": 0,
  "metadata": {
    "colab": {
      "provenance": []
    },
    "kernelspec": {
      "name": "python3",
      "display_name": "Python 3"
    },
    "language_info": {
      "name": "python"
    }
  },
  "cells": [
    {
      "cell_type": "markdown",
      "source": [
        "2440050874 - Michael Julian"
      ],
      "metadata": {
        "id": "skfzVxznWZ8c"
      }
    },
    {
      "cell_type": "code",
      "source": [
        "corpus = [\n",
        "'Saya suka dengan makanan laut',\n",
        "'Saya suka dengan minuman yang manis',\n",
        "'Kemarin saya makan makanan laut',\n",
        "'Hari ini saya makan makanan khas Sunda',\n",
        "'Besok saya berencana makan makanan khas Betawi',\n",
        "'Kemarin saya makan roti',\n",
        "'Hari ini saya makan Pizza',\n",
        "'Besok saya berencana makan Burger',\n",
        "'Hari ini saya minum Coca Cola',\n",
        "'Besok saya berencana minum kopi',\n",
        "'Lusa saya berencana minum teh manis'\n",
        "]"
      ],
      "metadata": {
        "id": "ukuwu9-2Av5L"
      },
      "execution_count": null,
      "outputs": []
    },
    {
      "cell_type": "code",
      "source": [
        "def read_corpus():\n",
        "  sents=[]\n",
        "  for i in range(len(corpus)):\n",
        "    for word in corpus[i].split():\n",
        "      sents.append(word.lower())\n",
        "  print(sents)\n",
        "  return sents\n",
        "\n",
        "def bigram(sents):\n",
        "  bigrams_list = []\n",
        "  bigram_counts = {}\n",
        "  unigram_counts = {}\n",
        "\n",
        "  for i in range(len(sents)-1):\n",
        "    if i < len(sents) - 1 and sents[i+1].islower():\n",
        "      bigrams_list.append((sents[i], sents[i + 1]))\n",
        "      if (sents[i], sents[i+1]) in bigram_counts:\n",
        "        bigram_counts[(sents[i], sents[i + 1])] += 1\n",
        "      else:\n",
        "        bigram_counts[(sents[i], sents[i + 1])] = 1\n",
        "    if sents[i] in unigram_counts:\n",
        "      unigram_counts[sents[i]] += 1\n",
        "    else:\n",
        "      unigram_counts[sents[i]] = 1\n",
        "\n",
        "  return bigrams_list, unigram_counts, bigram_counts\n",
        "\n",
        "def bi_language_probability(bigrams_list, unigram_counts, bigram_counts):\n",
        "    probability = {}\n",
        "    for bigr in bigrams_list:\n",
        "        word1 = bigr[0]\n",
        "        word2 = bigr[1]\n",
        "        probability[bigr] = (bigram_counts.get(bigr))/(unigram_counts.get(word1))\n",
        "\n",
        "    return probability\n",
        "\n",
        "def sents_probability(user_input):\n",
        "  prob = 1\n",
        "  bi_list = []\n",
        "  bigr = []\n",
        "  words = user_input.lower().split()\n",
        "\n",
        "  for i in range(len(words) - 1):\n",
        "    if i < len(words) - 1:\n",
        "      bi_list.append((words[i], words[i + 1]))\n",
        "\n",
        "  for i in range(len(bi_list)):\n",
        "    if bi_list[i] in bi_probability:\n",
        "      prob *= bi_probability[bi_list[i]]\n",
        "    else:\n",
        "      prob *= 0\n",
        "\n",
        "  print('Probablility of sentence \\\"' + user_input + '\\\" = ' + str(prob))"
      ],
      "metadata": {
        "id": "q5C_r7FcB9Wb"
      },
      "execution_count": null,
      "outputs": []
    },
    {
      "cell_type": "code",
      "source": [
        "sents = read_corpus()\n",
        "bigrams_list, unigram_counts, bigram_counts = bigram(sents)\n",
        "bi_probability = bi_language_probability(bigrams_list, unigram_counts, bigram_counts)"
      ],
      "metadata": {
        "colab": {
          "base_uri": "https://localhost:8080/"
        },
        "id": "x4mqMVMICdw4",
        "outputId": "6da892df-f5fa-4338-ed0d-c89afdf9900b"
      },
      "execution_count": null,
      "outputs": [
        {
          "output_type": "stream",
          "name": "stdout",
          "text": [
            "['saya', 'suka', 'dengan', 'makanan', 'laut', 'saya', 'suka', 'dengan', 'minuman', 'yang', 'manis', 'kemarin', 'saya', 'makan', 'makanan', 'laut', 'hari', 'ini', 'saya', 'makan', 'makanan', 'khas', 'sunda', 'besok', 'saya', 'berencana', 'makan', 'makanan', 'khas', 'betawi', 'kemarin', 'saya', 'makan', 'roti', 'hari', 'ini', 'saya', 'makan', 'pizza', 'besok', 'saya', 'berencana', 'makan', 'burger', 'hari', 'ini', 'saya', 'minum', 'coca', 'cola', 'besok', 'saya', 'berencana', 'minum', 'kopi', 'lusa', 'saya', 'berencana', 'minum', 'teh', 'manis']\n"
          ]
        }
      ]
    },
    {
      "cell_type": "code",
      "source": [
        "sents_probability(\"saya suka dengan makanan laut\")"
      ],
      "metadata": {
        "colab": {
          "base_uri": "https://localhost:8080/"
        },
        "id": "03vjJAAXIozr",
        "outputId": "8d31629d-55be-45e4-f536-ef16790e5f64"
      },
      "execution_count": null,
      "outputs": [
        {
          "output_type": "stream",
          "name": "stdout",
          "text": [
            "Probablility of sentence \"saya suka dengan makanan laut\" = 0.045454545454545456\n"
          ]
        }
      ]
    },
    {
      "cell_type": "code",
      "source": [
        "sents_probability(\"Besok saya berencana makan Pizza\")"
      ],
      "metadata": {
        "colab": {
          "base_uri": "https://localhost:8080/"
        },
        "id": "HsPwYly9Iure",
        "outputId": "49cb0234-ab92-4668-b35f-ac1aadeef2b8"
      },
      "execution_count": null,
      "outputs": [
        {
          "output_type": "stream",
          "name": "stdout",
          "text": [
            "Probablility of sentence \"Besok saya berencana makan Pizza\" = 0.030303030303030304\n"
          ]
        }
      ]
    },
    {
      "cell_type": "code",
      "source": [
        "sents_probability(\"Saya makan Pizza\")"
      ],
      "metadata": {
        "colab": {
          "base_uri": "https://localhost:8080/"
        },
        "id": "Qpg4wcRaIwp1",
        "outputId": "5bd9e37b-b883-42b1-d602-a38acadf1ab9"
      },
      "execution_count": null,
      "outputs": [
        {
          "output_type": "stream",
          "name": "stdout",
          "text": [
            "Probablility of sentence \"Saya makan Pizza\" = 0.06060606060606061\n"
          ]
        }
      ]
    },
    {
      "cell_type": "code",
      "source": [
        "sents_probability(\"Saya minum kopi\")"
      ],
      "metadata": {
        "colab": {
          "base_uri": "https://localhost:8080/"
        },
        "id": "mvO6TBemIxaO",
        "outputId": "c07bb520-0496-4f8b-a223-d2bbecba48ff"
      },
      "execution_count": null,
      "outputs": [
        {
          "output_type": "stream",
          "name": "stdout",
          "text": [
            "Probablility of sentence \"Saya minum kopi\" = 0.030303030303030304\n"
          ]
        }
      ]
    },
    {
      "cell_type": "code",
      "source": [
        "sents_probability(\"saya suka\")"
      ],
      "metadata": {
        "colab": {
          "base_uri": "https://localhost:8080/"
        },
        "id": "kRqDSaAcIyHr",
        "outputId": "d979a72e-11c4-4c57-8fcb-3c189ade0b1a"
      },
      "execution_count": null,
      "outputs": [
        {
          "output_type": "stream",
          "name": "stdout",
          "text": [
            "Probablility of sentence \"saya suka\" = 0.18181818181818182\n"
          ]
        }
      ]
    },
    {
      "cell_type": "code",
      "source": [
        "#try with manual input:\n",
        "user_input = input()\n",
        "sents_probability(user_input)"
      ],
      "metadata": {
        "colab": {
          "base_uri": "https://localhost:8080/"
        },
        "id": "odmmi-7AEcNq",
        "outputId": "a84d52a2-b1de-45fb-fbb2-12f9747e3921"
      },
      "execution_count": null,
      "outputs": [
        {
          "output_type": "stream",
          "name": "stdout",
          "text": [
            "saya makan burger\n",
            "Probablility of sentence \"saya makan burger\" = 0.06060606060606061\n"
          ]
        }
      ]
    }
  ]
}